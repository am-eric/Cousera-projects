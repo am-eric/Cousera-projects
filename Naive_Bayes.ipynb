{
  "nbformat": 4,
  "nbformat_minor": 0,
  "metadata": {
    "colab": {
      "provenance": [],
      "authorship_tag": "ABX9TyNZbfDFAM0obY+wZZ4VfeEL",
      "include_colab_link": true
    },
    "kernelspec": {
      "name": "python3",
      "display_name": "Python 3"
    },
    "language_info": {
      "name": "python"
    }
  },
  "cells": [
    {
      "cell_type": "markdown",
      "metadata": {
        "id": "view-in-github",
        "colab_type": "text"
      },
      "source": [
        "<a href=\"https://colab.research.google.com/github/am-eric/Cousera-projects/blob/main/Naive_Bayes.ipynb\" target=\"_parent\"><img src=\"https://colab.research.google.com/assets/colab-badge.svg\" alt=\"Open In Colab\"/></a>"
      ]
    },
    {
      "cell_type": "markdown",
      "source": [
        "<h1 align=center>Naive Bayes<h1>\n",
        "\n",
        "---"
      ],
      "metadata": {
        "id": "aACmqlZNHUn1"
      }
    },
    {
      "cell_type": "markdown",
      "source": [
        "Based on Bayes Theorem.\n",
        "\n",
        "**Naive** : Assumes the occurence of a certain feature is independent to the occurence of other features.\n",
        "\n",
        "**Bayes Theorem/ Law**\n",
        "\n",
        "P(A | B) = P(B | A) * P(A) / P(B)\n",
        "\n"
      ],
      "metadata": {
        "id": "w_h-ePr7HoJW"
      }
    },
    {
      "cell_type": "markdown",
      "source": [
        "Where:\n",
        "- P(A | B) is the posterior probability of class A given features B.\n",
        "- P(B | A) is the likelihood of features B given class A.\n",
        "- P(A) is the prior probability of class A.\n",
        "- P(B) is the probability of features B.\n",
        "\n"
      ],
      "metadata": {
        "id": "crwOX2tVKnam"
      }
    },
    {
      "cell_type": "code",
      "execution_count": null,
      "metadata": {
        "id": "4RpDVvFV7KXM"
      },
      "outputs": [],
      "source": []
    }
  ]
}