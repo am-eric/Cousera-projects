{
  "nbformat": 4,
  "nbformat_minor": 0,
  "metadata": {
    "colab": {
      "provenance": [],
      "authorship_tag": "ABX9TyMLWulHs/nXM6vOY/3xBvFv",
      "include_colab_link": true
    },
    "kernelspec": {
      "name": "python3",
      "display_name": "Python 3"
    },
    "language_info": {
      "name": "python"
    }
  },
  "cells": [
    {
      "cell_type": "markdown",
      "metadata": {
        "id": "view-in-github",
        "colab_type": "text"
      },
      "source": [
        "<a href=\"https://colab.research.google.com/github/am-eric/Cousera-projects/blob/main/K_Nearest_Neighbor.ipynb\" target=\"_parent\"><img src=\"https://colab.research.google.com/assets/colab-badge.svg\" alt=\"Open In Colab\"/></a>"
      ]
    },
    {
      "cell_type": "markdown",
      "source": [
        "<h1>K-Nearest-Neighbor<h1>\n",
        "\n",
        "---"
      ],
      "metadata": {
        "id": "cmvXFE01koYt"
      }
    },
    {
      "cell_type": "markdown",
      "source": [
        "### The k-nearest neighbors (KNN) algorithm is a simple, supervised machine learning algorithm that can be used to solve both classification and regression problems.\n"
      ],
      "metadata": {
        "id": "zTv-a10GkgfX"
      }
    },
    {
      "cell_type": "code",
      "execution_count": null,
      "metadata": {
        "id": "gMlKo42DjqLW"
      },
      "outputs": [],
      "source": []
    }
  ]
}